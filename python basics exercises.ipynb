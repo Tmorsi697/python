{
 "cells": [
  {
   "cell_type": "code",
   "execution_count": 159,
   "id": "66e03497-f8df-486f-bf55-94c5e2b4524c",
   "metadata": {},
   "outputs": [
    {
     "name": "stdin",
     "output_type": "stream",
     "text": [
      "exe: 10\n",
      "exe1: 20\n"
     ]
    },
    {
     "name": "stdout",
     "output_type": "stream",
     "text": [
      "result: 16\n",
      "result1: 64\n"
     ]
    }
   ],
   "source": [
    "#Basics Exercises\n",
    "#Exercise 1\n",
    "exe=int(input(\"exe:\"))\n",
    "exe1=int(input(\"exe1:\"))\n",
    "result=exe+exe1\n",
    "result1=exe*exe1\n",
    "print(\"result:\",reslt)\n",
    "print(\"result1:\",reslt1)\n"
   ]
  },
  {
   "cell_type": "code",
   "execution_count": 19,
   "id": "d73c7170-653d-4897-bd8d-3e62bdfc8d42",
   "metadata": {},
   "outputs": [
    {
     "name": "stdout",
     "output_type": "stream",
     "text": [
      "Name Is James\n"
     ]
    }
   ],
   "source": [
    "#Exercise 2\n",
    "exe=\"Name\"\n",
    "exe1=\"Is\"\n",
    "exe2=\"James\"\n",
    "print(exe+\" \"+exe1+\" \"+exe2)\n"
   ]
  },
  {
   "cell_type": "code",
   "execution_count": 25,
   "id": "9e66523f-4a1d-4520-8c2e-b24c11951d1d",
   "metadata": {},
   "outputs": [
    {
     "name": "stdout",
     "output_type": "stream",
     "text": [
      "Hello World\n"
     ]
    }
   ],
   "source": [
    "#Exercise 3\n",
    "a=8\n",
    "b=7\n",
    "if a>b:\n",
    "    print(\"Hello World\")"
   ]
  },
  {
   "cell_type": "code",
   "execution_count": 141,
   "id": "f0745b20-9a5b-4b91-a035-462f6932e85f",
   "metadata": {},
   "outputs": [
    {
     "name": "stdin",
     "output_type": "stream",
     "text": [
      "Grade: 89\n"
     ]
    },
    {
     "name": "stdout",
     "output_type": "stream",
     "text": [
      "mark: B\n"
     ]
    }
   ],
   "source": [
    "#Exercise 4\n",
    "mark=int(input(\"Grade:\"))\n",
    "if mark > 90:print(\"mark:\",\"A\")\n",
    "elif mark > 80 and mark <= 90:print(\"mark:\",\"B\")\n",
    "elif mark >= 60 and mark <= 80:print(\"mark:\",\"C\")\n",
    "elif mark < 60 :print(\"mark:\",\"D\")"
   ]
  },
  {
   "cell_type": "code",
   "execution_count": 161,
   "id": "0518a992-24c1-4f50-8123-60d1bf6bdf4c",
   "metadata": {},
   "outputs": [
    {
     "name": "stdin",
     "output_type": "stream",
     "text": [
      "Number Of The Day: 5\n"
     ]
    },
    {
     "name": "stdout",
     "output_type": "stream",
     "text": [
      "Name Of The Day: Wednesday\n"
     ]
    }
   ],
   "source": [
    "#Exercise 5\n",
    "day=int(input(\"Number Of The Day:\"))\n",
    "if  day == 1:print(\"Name Of The Day:\",\"Saturday\")\n",
    "elif  day == 2:print(\"Name Of The Day:\",\"Sunday\")\n",
    "elif  day == 3:print(\"Name Of The Day:\",\"Monday\")\n",
    "elif  day == 4:print(\"Name Of The Day:\",\"Tuesday\")\n",
    "elif  day == 5:print(\"Name Of The Day:\",\"Wednesday\")\n",
    "elif  day == 6:print(\"Name Of The Day:\",\"Thursday\")\n",
    "elif  day == 7:print(\"Name Of The Day:\",\"Friday\")\n"
   ]
  },
  {
   "cell_type": "code",
   "execution_count": null,
   "id": "d170daac-8863-4d39-9c47-bf6acc4510d8",
   "metadata": {},
   "outputs": [],
   "source": []
  }
 ],
 "metadata": {
  "kernelspec": {
   "display_name": "Python 3 (ipykernel)",
   "language": "python",
   "name": "python3"
  },
  "language_info": {
   "codemirror_mode": {
    "name": "ipython",
    "version": 3
   },
   "file_extension": ".py",
   "mimetype": "text/x-python",
   "name": "python",
   "nbconvert_exporter": "python",
   "pygments_lexer": "ipython3",
   "version": "3.11.7"
  }
 },
 "nbformat": 4,
 "nbformat_minor": 5
}
