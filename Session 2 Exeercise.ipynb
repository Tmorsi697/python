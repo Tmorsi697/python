{
 "cells": [
  {
   "cell_type": "code",
   "execution_count": 16,
   "id": "f7611835-99f0-4fc5-a5be-2ddc92a6d1f1",
   "metadata": {},
   "outputs": [
    {
     "name": "stdout",
     "output_type": "stream",
     "text": [
      "1\n",
      "2\n",
      "3\n",
      "4\n",
      "5\n",
      "6\n",
      "7\n",
      "8\n",
      "9\n",
      "10\n"
     ]
    }
   ],
   "source": [
    "#Session 2 Exeercise\n",
    "#Exercise 1: Print First 10 natural numbers using while loop\n",
    "T= 1\n",
    "while T<11:\n",
    "    print(T)\n",
    "    T+=1"
   ]
  },
  {
   "cell_type": "code",
   "execution_count": 20,
   "id": "4c551b1f-f1eb-470f-b3cb-9534613cc764",
   "metadata": {},
   "outputs": [
    {
     "name": "stdout",
     "output_type": "stream",
     "text": [
      "[100, 200, 300, 400, 500]\n"
     ]
    }
   ],
   "source": [
    "#Exercise 2: Reverse this list [500, 400, 300, 200, 100] in Python\n",
    "T=[500, 400, 300, 200, 100]\n",
    "T.reverse()\n",
    "print(T)"
   ]
  },
  {
   "cell_type": "code",
   "execution_count": 22,
   "id": "a845022c-ca14-4f9b-8000-74c0a8abddb7",
   "metadata": {},
   "outputs": [
    {
     "name": "stdout",
     "output_type": "stream",
     "text": [
      "428\n"
     ]
    }
   ],
   "source": [
    "#Exercise 3: Calculate the sum of all numbers in the following list [55,32,75,86,49,11,120]\n",
    "T=[55,32,75,86,49,11,120]\n",
    "A=sum(T)\n",
    "print(A)\n"
   ]
  },
  {
   "cell_type": "code",
   "execution_count": 65,
   "id": "5d897b10-50f7-41e6-a09d-1cd86bc15e11",
   "metadata": {},
   "outputs": [
    {
     "name": "stdout",
     "output_type": "stream",
     "text": [
      "l1: [6, 12, 18]\n",
      "l2: [4, 12, 20, 28]\n",
      "L3: [6, 12, 18, 4, 12, 20, 28]\n"
     ]
    }
   ],
   "source": [
    "# Exercise 4: Create a list by picking an odd-index items from the first list and even index items from the second\n",
    "# Given two lists, l1 and l2, write a program to create a third list l3 by picking an odd-index element from the list l1 and even index elements from the list l2.\n",
    "# l1 = [3, 6, 9, 12, 15, 18, 21]\n",
    "    #   0  1  2  3   4   5   6\n",
    "# l2 = [4, 8, 12, 16, 20, 24, 28]\n",
    "    #   7  8   9   10  11  12  13\n",
    "L1 = [3, 6, 9, 12, 15, 18, 21]\n",
    "L2 = [4, 8, 12, 16, 20, 24, 28]\n",
    "T=L1[1::2]\n",
    "print(\"l1:\",T)\n",
    "A=L2[0::2]\n",
    "print(\"l2:\",A)\n",
    "L3=list()\n",
    "L3.extend(T)\n",
    "L3.extend(A)\n",
    "print(\"L3:\",L3)\n"
   ]
  },
  {
   "cell_type": "code",
   "execution_count": 83,
   "id": "5d2bcd1b-f95f-4f8e-89a9-7a0e0f85957f",
   "metadata": {},
   "outputs": [
    {
     "name": "stdout",
     "output_type": "stream",
     "text": [
      "10\n",
      "20\n",
      "55\n"
     ]
    }
   ],
   "source": [
    "#Exercise 5: Display numbers divisible by 5 from a list [10, 20, 33, 46, 55]\n",
    "T=[10, 20, 33, 46, 55]\n",
    "for i in T:\n",
    "    if i%5==0:\n",
    "        print(i)"
   ]
  }
 ],
 "metadata": {
  "kernelspec": {
   "display_name": "Python 3 (ipykernel)",
   "language": "python",
   "name": "python3"
  },
  "language_info": {
   "codemirror_mode": {
    "name": "ipython",
    "version": 3
   },
   "file_extension": ".py",
   "mimetype": "text/x-python",
   "name": "python",
   "nbconvert_exporter": "python",
   "pygments_lexer": "ipython3",
   "version": "3.11.7"
  }
 },
 "nbformat": 4,
 "nbformat_minor": 5
}
